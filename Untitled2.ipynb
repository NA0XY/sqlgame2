{
  "nbformat": 4,
  "nbformat_minor": 0,
  "metadata": {
    "colab": {
      "provenance": [],
      "include_colab_link": true
    },
    "kernelspec": {
      "name": "python3",
      "display_name": "Python 3"
    },
    "language_info": {
      "name": "python"
    }
  },
  "cells": [
    {
      "cell_type": "markdown",
      "metadata": {
        "id": "view-in-github",
        "colab_type": "text"
      },
      "source": [
        "<a href=\"https://colab.research.google.com/github/NA0XY/sqlgame2/blob/main/Untitled2.ipynb\" target=\"_parent\"><img src=\"https://colab.research.google.com/assets/colab-badge.svg\" alt=\"Open In Colab\"/></a>"
      ]
    },
    {
      "cell_type": "code",
      "execution_count": null,
      "metadata": {
        "id": "MpF7QNNUVddC"
      },
      "outputs": [],
      "source": [
        "import pandas as pd\n",
        "import numpy as np\n",
        "from sklearn.model_selection import train_test_split\n",
        "from sklearn.linear_model import LinearRegression\n",
        "from sklearn.metrics import mean_squared_error, r2_score\n",
        "from sklearn.preprocessing import StandardScaler\n",
        "import tensorflow as tf\n",
        "from tensorflow import keras\n",
        "import kagglehub"
      ]
    },
    {
      "cell_type": "code",
      "source": [
        "path=kagglehub.dataset_download(\"camnugent/california-housing-prices\")\n",
        "print(\"Path to dataset files:\",path)\n",
        "data=pd.read_csv(path+\"/housing.csv\")\n",
        "print(data.info())"
      ],
      "metadata": {
        "colab": {
          "base_uri": "https://localhost:8080/"
        },
        "id": "tHf8ZJ1fXHdb",
        "outputId": "13a31caa-2386-47e9-ebcb-5ee32585c67d"
      },
      "execution_count": null,
      "outputs": [
        {
          "output_type": "stream",
          "name": "stdout",
          "text": [
            "Path to dataset files: /kaggle/input/california-housing-prices\n",
            "<class 'pandas.core.frame.DataFrame'>\n",
            "RangeIndex: 20640 entries, 0 to 20639\n",
            "Data columns (total 10 columns):\n",
            " #   Column              Non-Null Count  Dtype  \n",
            "---  ------              --------------  -----  \n",
            " 0   longitude           20640 non-null  float64\n",
            " 1   latitude            20640 non-null  float64\n",
            " 2   housing_median_age  20640 non-null  float64\n",
            " 3   total_rooms         20640 non-null  float64\n",
            " 4   total_bedrooms      20433 non-null  float64\n",
            " 5   population          20640 non-null  float64\n",
            " 6   households          20640 non-null  float64\n",
            " 7   median_income       20640 non-null  float64\n",
            " 8   median_house_value  20640 non-null  float64\n",
            " 9   ocean_proximity     20640 non-null  object \n",
            "dtypes: float64(9), object(1)\n",
            "memory usage: 1.6+ MB\n",
            "None\n"
          ]
        }
      ]
    },
    {
      "cell_type": "code",
      "source": [
        "data.dropna(inplace=True)\n",
        "print(data.info)"
      ],
      "metadata": {
        "colab": {
          "base_uri": "https://localhost:8080/"
        },
        "id": "g7A7P2uyYKDi",
        "outputId": "ed29708f-b8fa-43ca-8553-646a7b44d5e7"
      },
      "execution_count": null,
      "outputs": [
        {
          "output_type": "stream",
          "name": "stdout",
          "text": [
            "<bound method DataFrame.info of        longitude  latitude  housing_median_age  total_rooms  total_bedrooms  \\\n",
            "0        -122.23     37.88                41.0        880.0           129.0   \n",
            "1        -122.22     37.86                21.0       7099.0          1106.0   \n",
            "2        -122.24     37.85                52.0       1467.0           190.0   \n",
            "3        -122.25     37.85                52.0       1274.0           235.0   \n",
            "4        -122.25     37.85                52.0       1627.0           280.0   \n",
            "...          ...       ...                 ...          ...             ...   \n",
            "20635    -121.09     39.48                25.0       1665.0           374.0   \n",
            "20636    -121.21     39.49                18.0        697.0           150.0   \n",
            "20637    -121.22     39.43                17.0       2254.0           485.0   \n",
            "20638    -121.32     39.43                18.0       1860.0           409.0   \n",
            "20639    -121.24     39.37                16.0       2785.0           616.0   \n",
            "\n",
            "       population  households  median_income  median_house_value  \\\n",
            "0           322.0       126.0         8.3252            452600.0   \n",
            "1          2401.0      1138.0         8.3014            358500.0   \n",
            "2           496.0       177.0         7.2574            352100.0   \n",
            "3           558.0       219.0         5.6431            341300.0   \n",
            "4           565.0       259.0         3.8462            342200.0   \n",
            "...           ...         ...            ...                 ...   \n",
            "20635       845.0       330.0         1.5603             78100.0   \n",
            "20636       356.0       114.0         2.5568             77100.0   \n",
            "20637      1007.0       433.0         1.7000             92300.0   \n",
            "20638       741.0       349.0         1.8672             84700.0   \n",
            "20639      1387.0       530.0         2.3886             89400.0   \n",
            "\n",
            "      ocean_proximity  \n",
            "0            NEAR BAY  \n",
            "1            NEAR BAY  \n",
            "2            NEAR BAY  \n",
            "3            NEAR BAY  \n",
            "4            NEAR BAY  \n",
            "...               ...  \n",
            "20635          INLAND  \n",
            "20636          INLAND  \n",
            "20637          INLAND  \n",
            "20638          INLAND  \n",
            "20639          INLAND  \n",
            "\n",
            "[20433 rows x 10 columns]>\n"
          ]
        }
      ]
    },
    {
      "cell_type": "code",
      "source": [
        "data=pd.get_dummies(data,drop_first=True)\n",
        "print(data.info)"
      ],
      "metadata": {
        "colab": {
          "base_uri": "https://localhost:8080/"
        },
        "id": "OvM0CPDxY3lR",
        "outputId": "0dff1059-229f-4cb8-fee2-dc6de6bebb5d"
      },
      "execution_count": null,
      "outputs": [
        {
          "output_type": "stream",
          "name": "stdout",
          "text": [
            "<bound method DataFrame.info of        longitude  latitude  housing_median_age  total_rooms  total_bedrooms  \\\n",
            "0        -122.23     37.88                41.0        880.0           129.0   \n",
            "1        -122.22     37.86                21.0       7099.0          1106.0   \n",
            "2        -122.24     37.85                52.0       1467.0           190.0   \n",
            "3        -122.25     37.85                52.0       1274.0           235.0   \n",
            "4        -122.25     37.85                52.0       1627.0           280.0   \n",
            "...          ...       ...                 ...          ...             ...   \n",
            "20635    -121.09     39.48                25.0       1665.0           374.0   \n",
            "20636    -121.21     39.49                18.0        697.0           150.0   \n",
            "20637    -121.22     39.43                17.0       2254.0           485.0   \n",
            "20638    -121.32     39.43                18.0       1860.0           409.0   \n",
            "20639    -121.24     39.37                16.0       2785.0           616.0   \n",
            "\n",
            "       population  households  median_income  median_house_value  \\\n",
            "0           322.0       126.0         8.3252            452600.0   \n",
            "1          2401.0      1138.0         8.3014            358500.0   \n",
            "2           496.0       177.0         7.2574            352100.0   \n",
            "3           558.0       219.0         5.6431            341300.0   \n",
            "4           565.0       259.0         3.8462            342200.0   \n",
            "...           ...         ...            ...                 ...   \n",
            "20635       845.0       330.0         1.5603             78100.0   \n",
            "20636       356.0       114.0         2.5568             77100.0   \n",
            "20637      1007.0       433.0         1.7000             92300.0   \n",
            "20638       741.0       349.0         1.8672             84700.0   \n",
            "20639      1387.0       530.0         2.3886             89400.0   \n",
            "\n",
            "       ocean_proximity_INLAND  ocean_proximity_ISLAND  \\\n",
            "0                       False                   False   \n",
            "1                       False                   False   \n",
            "2                       False                   False   \n",
            "3                       False                   False   \n",
            "4                       False                   False   \n",
            "...                       ...                     ...   \n",
            "20635                    True                   False   \n",
            "20636                    True                   False   \n",
            "20637                    True                   False   \n",
            "20638                    True                   False   \n",
            "20639                    True                   False   \n",
            "\n",
            "       ocean_proximity_NEAR BAY  ocean_proximity_NEAR OCEAN  \n",
            "0                          True                       False  \n",
            "1                          True                       False  \n",
            "2                          True                       False  \n",
            "3                          True                       False  \n",
            "4                          True                       False  \n",
            "...                         ...                         ...  \n",
            "20635                     False                       False  \n",
            "20636                     False                       False  \n",
            "20637                     False                       False  \n",
            "20638                     False                       False  \n",
            "20639                     False                       False  \n",
            "\n",
            "[20433 rows x 13 columns]>\n"
          ]
        }
      ]
    },
    {
      "cell_type": "code",
      "source": [
        "x=data.drop(\"median_house_value\",axis=1)\n",
        "y=data[\"median_house_value\"]\n",
        "print(x.info)\n",
        "print(y.info)\n"
      ],
      "metadata": {
        "colab": {
          "base_uri": "https://localhost:8080/"
        },
        "id": "Q0rzM5QdZIPg",
        "outputId": "b345fae8-d21e-4f5e-edeb-826f0556b11d"
      },
      "execution_count": null,
      "outputs": [
        {
          "output_type": "stream",
          "name": "stdout",
          "text": [
            "<bound method DataFrame.info of        longitude  latitude  housing_median_age  total_rooms  total_bedrooms  \\\n",
            "0        -122.23     37.88                41.0        880.0           129.0   \n",
            "1        -122.22     37.86                21.0       7099.0          1106.0   \n",
            "2        -122.24     37.85                52.0       1467.0           190.0   \n",
            "3        -122.25     37.85                52.0       1274.0           235.0   \n",
            "4        -122.25     37.85                52.0       1627.0           280.0   \n",
            "...          ...       ...                 ...          ...             ...   \n",
            "20635    -121.09     39.48                25.0       1665.0           374.0   \n",
            "20636    -121.21     39.49                18.0        697.0           150.0   \n",
            "20637    -121.22     39.43                17.0       2254.0           485.0   \n",
            "20638    -121.32     39.43                18.0       1860.0           409.0   \n",
            "20639    -121.24     39.37                16.0       2785.0           616.0   \n",
            "\n",
            "       population  households  median_income  ocean_proximity_INLAND  \\\n",
            "0           322.0       126.0         8.3252                   False   \n",
            "1          2401.0      1138.0         8.3014                   False   \n",
            "2           496.0       177.0         7.2574                   False   \n",
            "3           558.0       219.0         5.6431                   False   \n",
            "4           565.0       259.0         3.8462                   False   \n",
            "...           ...         ...            ...                     ...   \n",
            "20635       845.0       330.0         1.5603                    True   \n",
            "20636       356.0       114.0         2.5568                    True   \n",
            "20637      1007.0       433.0         1.7000                    True   \n",
            "20638       741.0       349.0         1.8672                    True   \n",
            "20639      1387.0       530.0         2.3886                    True   \n",
            "\n",
            "       ocean_proximity_ISLAND  ocean_proximity_NEAR BAY  \\\n",
            "0                       False                      True   \n",
            "1                       False                      True   \n",
            "2                       False                      True   \n",
            "3                       False                      True   \n",
            "4                       False                      True   \n",
            "...                       ...                       ...   \n",
            "20635                   False                     False   \n",
            "20636                   False                     False   \n",
            "20637                   False                     False   \n",
            "20638                   False                     False   \n",
            "20639                   False                     False   \n",
            "\n",
            "       ocean_proximity_NEAR OCEAN  \n",
            "0                           False  \n",
            "1                           False  \n",
            "2                           False  \n",
            "3                           False  \n",
            "4                           False  \n",
            "...                           ...  \n",
            "20635                       False  \n",
            "20636                       False  \n",
            "20637                       False  \n",
            "20638                       False  \n",
            "20639                       False  \n",
            "\n",
            "[20433 rows x 12 columns]>\n",
            "<bound method Series.info of 0        452600.0\n",
            "1        358500.0\n",
            "2        352100.0\n",
            "3        341300.0\n",
            "4        342200.0\n",
            "           ...   \n",
            "20635     78100.0\n",
            "20636     77100.0\n",
            "20637     92300.0\n",
            "20638     84700.0\n",
            "20639     89400.0\n",
            "Name: median_house_value, Length: 20433, dtype: float64>\n"
          ]
        }
      ]
    }
  ]
}